{
  "nbformat": 4,
  "nbformat_minor": 0,
  "metadata": {
    "colab": {
      "provenance": [],
      "authorship_tag": "ABX9TyN5pjOQXrpWw4eq+uD/rGGL",
      "include_colab_link": true
    },
    "kernelspec": {
      "name": "python3",
      "display_name": "Python 3"
    },
    "language_info": {
      "name": "python"
    }
  },
  "cells": [
    {
      "cell_type": "markdown",
      "metadata": {
        "id": "view-in-github",
        "colab_type": "text"
      },
      "source": [
        "<a href=\"https://colab.research.google.com/github/ThatNinjaGuy/Machine-learning-A-Z-Course/blob/develop/indian_elections2024.ipynb\" target=\"_parent\"><img src=\"https://colab.research.google.com/assets/colab-badge.svg\" alt=\"Open In Colab\"/></a>"
      ]
    },
    {
      "cell_type": "code",
      "execution_count": 15,
      "metadata": {
        "colab": {
          "base_uri": "https://localhost:8080/"
        },
        "id": "jiMDu1LLgUF-",
        "outputId": "87d6cb03-9f40-41e8-fd78-531357b12e8e"
      },
      "outputs": [
        {
          "output_type": "stream",
          "name": "stdout",
          "text": [
            "Request successful\n",
            "  Constituency Number Constituency Name     State Name Index  \\\n",
            "0                  44          Akbarpur  Uttar Pradesh     1   \n",
            "1                  44          Akbarpur  Uttar Pradesh     2   \n",
            "2                  44          Akbarpur  Uttar Pradesh     3   \n",
            "3                  44          Akbarpur  Uttar Pradesh     4   \n",
            "\n",
            "                          Candidate                   Party   Votes Margin  \\\n",
            "0  DEVENDRA SINGH ALIAS BHOLE SINGH  Bharatiya Janata Party  514256   3167   \n",
            "1                       RAJARAM PAL         Samajwadi Party  469766   3312   \n",
            "2              RAJESH KUMAR DWIVEDI     Bahujan Samaj Party   72679    461   \n",
            "3                           RAJARAM             Independent    4629     13   \n",
            "\n",
            "  Total Votes Vote Share  \n",
            "0      517423       47.6  \n",
            "1      473078      43.52  \n",
            "2       73140       6.73  \n",
            "3        4642       0.43  \n"
          ]
        }
      ],
      "source": [
        "import requests\n",
        "from bs4 import BeautifulSoup\n",
        "import pandas as pd\n",
        "import re\n",
        "\n",
        "def extract_constituency_details(details_str):\n",
        "    match = re.match(r\"(\\d+)\\s*-\\s*(.+)\\s+\\((.+)\\)\", details_str)\n",
        "    if match:\n",
        "        constituency_number = match.group(1)\n",
        "        constituency_name = match.group(2)\n",
        "        state_name = match.group(3)\n",
        "        return constituency_number, constituency_name, state_name\n",
        "    else:\n",
        "        return None, None, None\n",
        "\n",
        "# Define the URL\n",
        "url = 'https://results.eci.gov.in/PcResultGenJune2024/ConstituencywiseS2444.htm'\n",
        "\n",
        "# Make a request to the website\n",
        "response = requests.get(url)\n",
        "\n",
        "# Check if the request was successful\n",
        "if response.status_code == 200:\n",
        "    print('Request successful')\n",
        "else:\n",
        "    print('Request failed')\n",
        "\n",
        "# Parse the HTML content\n",
        "soup = BeautifulSoup(response.content, 'html.parser')\n",
        "\n",
        "# Find the constituency header\n",
        "constituency_header = soup.find('div', class_='page-title').find('h2').find('span')\n",
        "constituency_number, constituency_name, state_name = extract_constituency_details(constituency_header.text.strip())\n",
        "\n",
        "# Find the table\n",
        "table = soup.find('table', class_='table table-striped table-bordered')\n",
        "\n",
        "# Extract the top 4 rows\n",
        "rows = table.find_all('tr')[1:5]\n",
        "\n",
        "# Create a list to store the extracted data\n",
        "data = []\n",
        "\n",
        "# Loop through each row and extract the details\n",
        "for row in rows:\n",
        "    cols = row.find_all('td')\n",
        "    cols = [col.text.strip() for col in cols]\n",
        "    data.append([constituency_number, constituency_name, state_name] + cols)\n",
        "\n",
        "# Define the columns for the DataFrame\n",
        "columns = ['Constituency Number', 'Constituency Name', 'State Name', 'Index', 'Candidate', 'Party', 'Votes', 'Margin', 'Total Votes', 'Vote Share']\n",
        "\n",
        "# Convert the list to a DataFrame\n",
        "df = pd.DataFrame(data, columns=columns)\n",
        "\n",
        "# Save to CSV (uncomment this line if you want to save the DataFrame to a CSV file)\n",
        "# df.to_csv('election_results_top4.csv', index=False)\n",
        "\n",
        "# Display the DataFrame\n",
        "print(df)\n"
      ]
    }
  ]
}